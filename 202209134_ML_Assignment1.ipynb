{
 "nbformat": 4,
 "nbformat_minor": 0,
 "metadata": {
  "colab": {
   "provenance": [],
   "collapsed_sections": []
  },
  "kernelspec": {
   "name": "python3",
   "display_name": "Python 3"
  },
  "language_info": {
   "name": "python"
  }
 },
 "cells": [
  {
   "cell_type": "markdown",
   "source": [
    "# **Assignment 1 - Introduction to Machine Learning**\n",
    "\n",
    "Name &emsp;&emsp;&emsp;: Matthew Alfredo <br/>\n",
    "Student ID &emsp;: 202209134"
   ],
   "metadata": {
    "id": "JUUZo2YmRA5b",
    "pycharm": {
     "name": "#%% md\n"
    }
   }
  },
  {
   "cell_type": "markdown",
   "source": [
    "## 1a. Linear Regression - Univariate\n",
    "\n",
    "Simple linear regression using two columns in the given dataset House Rent. **Rent** will act as a dependent feature or the label and **Size** will act as an independent feature."
   ],
   "metadata": {
    "id": "IOakwojjRuUi",
    "pycharm": {
     "name": "#%% md\n"
    }
   }
  },
  {
   "cell_type": "code",
   "execution_count": 170,
   "metadata": {
    "id": "attuR6TWQBWu",
    "pycharm": {
     "name": "#%%\n"
    }
   },
   "outputs": [],
   "source": [
    "import time\n",
    "\n",
    "import numpy as np\n",
    "from sklearn.model_selection import train_test_split\n",
    "import matplotlib.pyplot as plt\n",
    "import matplotlib.animation as animation\n",
    "import pandas as pd"
   ]
  },
  {
   "cell_type": "code",
   "execution_count": 171,
   "outputs": [],
   "source": [
    "def mean_squared_error(y_real, y_predicted):\n",
    "  return np.mean( (y_real - y_predicted) ** 2 )"
   ],
   "metadata": {
    "collapsed": false,
    "pycharm": {
     "name": "#%%\n"
    }
   }
  },
  {
   "cell_type": "code",
   "execution_count": 172,
   "outputs": [],
   "source": [
    "def r_squared_error(y_real, y_predicted):\n",
    "    y_average = y_real.mean()\n",
    "    ss_tot = ((y_real - y_average) ** 2).sum()\n",
    "    ss_res = ((y_real - y_predicted) ** 2).sum()\n",
    "    return 1 - (ss_res/ss_tot)"
   ],
   "metadata": {
    "collapsed": false,
    "pycharm": {
     "name": "#%%\n"
    }
   }
  },
  {
   "cell_type": "code",
   "execution_count": 173,
   "outputs": [],
   "source": [
    "class LinearRegression:\n",
    "    def __init__(self, learning_rate=0.00000005, iterations=100):\n",
    "        self.cost_list = None\n",
    "        self.loss_list = None\n",
    "        self.thetas_list = None\n",
    "        self.bias_list = None\n",
    "        self.learning_rate = learning_rate\n",
    "        self.iterations = iterations\n",
    "        self.thetas = None\n",
    "        self.bias = None\n",
    "\n",
    "    def fit(self, X, y):\n",
    "        no_samples, no_features = X.shape\n",
    "\n",
    "        # init parameters\n",
    "        self.thetas = np.zeros((2, 1))\n",
    "        self.bias = 0\n",
    "        self.cost_list = []\n",
    "        self.loss_list = []\n",
    "        self.thetas_list = []\n",
    "        self.bias_list = []\n",
    "\n",
    "        # gradient descent\n",
    "        for _ in range(self.iterations):\n",
    "            y_predicted = np.dot(X, self.thetas) + self.bias\n",
    "\n",
    "            # cost value\n",
    "            cost = (1/(2*no_samples)) * np.sum(np.square(y_predicted - y))\n",
    "            self.cost_list.append(cost)\n",
    "\n",
    "            # loss value\n",
    "            loss = mean_squared_error(y, y_predicted)\n",
    "            self.loss_list.append(loss)\n",
    "\n",
    "            # compute gradients\n",
    "            dw = (1 / no_samples) * np.dot(X.T, y_predicted - y)\n",
    "            db = (1 / no_samples) * np.sum(y_predicted - y)\n",
    "\n",
    "            # update parameters\n",
    "            self.thetas = self.thetas - self.learning_rate * dw\n",
    "            self.bias = self.bias - self.learning_rate * db\n",
    "\n",
    "            self.thetas_list.append(self.thetas)\n",
    "            self.bias_list.append(self.bias)\n",
    "\n",
    "    def predict(self, X):\n",
    "        y_prediction = np.dot(X, self.thetas) + self.bias\n",
    "        return y_prediction"
   ],
   "metadata": {
    "pycharm": {
     "name": "#%%\n"
    },
    "id": "WdDm1W_0ffYN"
   }
  },
  {
   "cell_type": "code",
   "source": [
    "data = np.loadtxt(\"House_Rent_Fixed_2_NoLabel.csv\", delimiter=\",\")"
   ],
   "metadata": {
    "id": "rmZHh__xnS1a",
    "pycharm": {
     "name": "#%%\n"
    },
    "colab": {
     "base_uri": "https://localhost:8080/"
    },
    "outputId": "7a3c9f29-ff22-4abe-b235-b9561d70ab27"
   },
   "execution_count": 174,
   "outputs": []
  },
  {
   "cell_type": "code",
   "source": [
    "X = data[:, 2]\n",
    "y = data[:, 3]\n",
    "\n",
    "print(X)\n",
    "print(y)"
   ],
   "metadata": {
    "id": "bNgtMoy0nTFR",
    "pycharm": {
     "name": "#%%\n"
    },
    "colab": {
     "base_uri": "https://localhost:8080/"
    },
    "outputId": "4b235eba-79c4-41c9-8e24-fc986c872695"
   },
   "execution_count": 175,
   "outputs": [
    {
     "name": "stdout",
     "output_type": "stream",
     "text": [
      "[  60.  160.  200. ... 4800. 4341. 3500.]\n",
      "[  2000.   3000.   3000. ... 130000. 130000. 130000.]\n"
     ]
    }
   ]
  },
  {
   "cell_type": "code",
   "execution_count": 176,
   "outputs": [],
   "source": [
    "features = X\n",
    "label = y"
   ],
   "metadata": {
    "pycharm": {
     "name": "#%%\n"
    },
    "id": "GHaS71g3ffYQ"
   }
  },
  {
   "cell_type": "code",
   "execution_count": 177,
   "outputs": [
    {
     "data": {
      "text/plain": "array([[1.000e+00, 6.000e+01],\n       [1.000e+00, 1.600e+02],\n       [1.000e+00, 2.000e+02],\n       ...,\n       [1.000e+00, 4.800e+03],\n       [1.000e+00, 4.341e+03],\n       [1.000e+00, 3.500e+03]])"
     },
     "execution_count": 177,
     "metadata": {},
     "output_type": "execute_result"
    }
   ],
   "source": [
    "X = np.vstack((np.ones((X.size, )), X)).T\n",
    "X"
   ],
   "metadata": {
    "pycharm": {
     "name": "#%%\n"
    },
    "colab": {
     "base_uri": "https://localhost:8080/"
    },
    "id": "jyOFF6X_ffYR",
    "outputId": "599a90f0-9673-4803-9223-d5c2090df41a"
   }
  },
  {
   "cell_type": "code",
   "execution_count": 178,
   "outputs": [
    {
     "data": {
      "text/plain": "array([[  2000.],\n       [  3000.],\n       [  3000.],\n       ...,\n       [130000.],\n       [130000.],\n       [130000.]])"
     },
     "execution_count": 178,
     "metadata": {},
     "output_type": "execute_result"
    }
   ],
   "source": [
    "y = data[:, 3].reshape(y.size, 1)\n",
    "y"
   ],
   "metadata": {
    "pycharm": {
     "name": "#%%\n"
    },
    "colab": {
     "base_uri": "https://localhost:8080/"
    },
    "id": "H4TYb4HPffYR",
    "outputId": "32cfc66f-0e76-48ea-a0db-319090930716"
   }
  },
  {
   "cell_type": "code",
   "source": [
    "X_train, X_test, y_train, y_test = train_test_split(\n",
    "  X, y, test_size=0.2, random_state=1\n",
    ")\n",
    "\n",
    "print(X_train.shape, y_train.shape)\n",
    "print(X_test.shape, y_test.shape)"
   ],
   "metadata": {
    "id": "HrIEvH8nnTf0",
    "pycharm": {
     "name": "#%%\n"
    },
    "colab": {
     "base_uri": "https://localhost:8080/"
    },
    "outputId": "b966920d-dcfb-4768-b5f6-1484358a4f43"
   },
   "execution_count": 179,
   "outputs": [
    {
     "name": "stdout",
     "output_type": "stream",
     "text": [
      "(2164, 2) (2164, 1)\n",
      "(542, 2) (542, 1)\n"
     ]
    }
   ]
  },
  {
   "cell_type": "code",
   "execution_count": 180,
   "outputs": [
    {
     "data": {
      "text/plain": "<Figure size 432x288 with 1 Axes>",
      "image/png": "[encoded data removed]"
     },
     "metadata": {
      "needs_background": "light"
     },
     "output_type": "display_data"
    }
   ],
   "source": [
    "plt.scatter(X[:, 1], y)\n",
    "plt.show()"
   ],
   "metadata": {
    "pycharm": {
     "name": "#%%\n"
    },
    "colab": {
     "base_uri": "https://localhost:8080/",
     "height": 265
    },
    "id": "jd02VuFWffYS",
    "outputId": "a9b7629f-33ea-4e02-bfc4-4d738c8afa85"
   }
  },
  {
   "cell_type": "code",
   "execution_count": 186,
   "outputs": [],
   "source": [
    "# linear_regression = LinearRegression(learning_rate=0.000001, iterations=1000000)\n",
    "linear_regression = LinearRegression(learning_rate=0.000001, iterations=1000)\n",
    "linear_regression.fit(X_train, y_train)"
   ],
   "metadata": {
    "pycharm": {
     "name": "#%%\n"
    },
    "id": "x2Rz-Y-dffYS"
   }
  },
  {
   "cell_type": "code",
   "execution_count": 187,
   "outputs": [
    {
     "name": "stdout",
     "output_type": "stream",
     "text": [
      "MSE for Test Data: 144330842.56953457\n",
      "R-Squared Error for Test Data: 0.45856105860738006\n"
     ]
    }
   ],
   "source": [
    "y_pred = linear_regression.predict(X_test)\n",
    "\n",
    "# calculating mse\n",
    "mse = mean_squared_error(y_test, y_pred)\n",
    "print('MSE for Test Data:', mse)\n",
    "\n",
    "# calculating r squared\n",
    "rse = r_squared_error(y_test, y_pred)\n",
    "print('R-Squared Error for Test Data:', rse)"
   ],
   "metadata": {
    "collapsed": false,
    "pycharm": {
     "name": "#%%\n"
    }
   }
  },
  {
   "cell_type": "code",
   "execution_count": 188,
   "outputs": [
    {
     "data": {
      "text/plain": "<Figure size 432x288 with 1 Axes>",
      "image/png": "[encoded data removed]"
     },
     "metadata": {},
     "output_type": "display_data"
    },
    {
     "data": {
      "text/plain": "<Figure size 432x288 with 0 Axes>"
     },
     "metadata": {},
     "output_type": "display_data"
    }
   ],
   "source": [
    "y_pred_line = linear_regression.predict(X)\n",
    "m1 = plt.scatter(features, label, s=10)\n",
    "plt.plot(features, y_pred_line, color='red', linewidth=1, label=\"Prediction\")\n",
    "plt.xticks(())\n",
    "plt.yticks(())\n",
    "plt.show()\n",
    "plt.clf()"
   ],
   "metadata": {
    "collapsed": false,
    "pycharm": {
     "name": "#%%\n"
    }
   }
  },
  {
   "cell_type": "code",
   "execution_count": 189,
   "outputs": [
    {
     "data": {
      "text/plain": "<Figure size 432x288 with 1 Axes>",
      "image/png": "[encoded data removed]"
     },
     "metadata": {
      "needs_background": "light"
     },
     "output_type": "display_data"
    }
   ],
   "source": [
    "range_iteration = np.arange(0, linear_regression.iterations)\n",
    "plt.plot(range_iteration, linear_regression.cost_list[0:linear_regression.iterations])\n",
    "plt.xlabel(\"Iteration\")\n",
    "plt.ylabel(\"Cost\")\n",
    "plt.title('Cost Function')\n",
    "plt.show()"
   ],
   "metadata": {
    "collapsed": false,
    "pycharm": {
     "name": "#%%\n"
    }
   }
  },
  {
   "cell_type": "code",
   "execution_count": 191,
   "outputs": [
    {
     "data": {
      "text/plain": "<Figure size 432x288 with 1 Axes>",
      "image/png": "[encoded data removed]"
     },
     "metadata": {
      "needs_background": "light"
     },
     "output_type": "display_data"
    }
   ],
   "source": [
    "range_iteration = np.arange(0, linear_regression.iterations)\n",
    "plt.plot(range_iteration, linear_regression.loss_list[0:linear_regression.iterations])\n",
    "plt.xlabel(\"Iteration\")\n",
    "plt.ylabel(\"Loss\")\n",
    "plt.title('Loss Function')\n",
    "plt.show()"
   ],
   "metadata": {
    "collapsed": false,
    "pycharm": {
     "name": "#%%\n"
    }
   }
  },
  {
   "cell_type": "code",
   "execution_count": 194,
   "outputs": [
    {
     "data": {
      "text/plain": "<Figure size 432x288 with 1 Axes>",
      "image/png": "[encoded data removed]"
     },
     "metadata": {
      "needs_background": "light"
     },
     "output_type": "display_data"
    }
   ],
   "source": [
    "fig, ax = plt.subplots()\n",
    "fig.set_tight_layout(True)\n",
    "\n",
    "x = features\n",
    "y_pred_line = linear_regression.predict(X)\n",
    "line, = ax.plot(features, y_pred_line, color='red', linewidth=1, label=\"Prediction\")\n",
    "ax.scatter(features, label, s=10)\n",
    "cost = 'Cost: -'\n",
    "loss = 'Loss: -'\n",
    "\n",
    "def update(i):\n",
    "    if i % 100 == 0:\n",
    "        global cost, loss\n",
    "        cost = 'Cost: ' + str(linear_regression.cost_list[i]) + ' - from Iteration ' + str(i)\n",
    "        loss = 'Loss: ' + str(linear_regression.loss_list[i]) + ' - from Iteration ' + str(i)\n",
    "\n",
    "    title = 'Iteration ' + str(i) + '\\n' + cost + '\\n' + loss\n",
    "    line.set_ydata(np.dot(X, linear_regression.thetas_list[i]) + linear_regression.bias_list[i])\n",
    "    ax.set_title(title)\n",
    "    return line, ax\n",
    "\n",
    "anim = animation.FuncAnimation(fig, update, repeat=False, frames=np.arange(0, linear_regression.iterations, 10), interval=100)\n",
    "\n",
    "# Writer = animation.writers['ffmpeg']\n",
    "# writer = Writer(fps=30, metadata={'artist': 'Matthew Alfredo'}, bitrate=1800)\n",
    "\n",
    "# anim.save('Linear Regression Univariate.mp4', writer=writer)\n",
    "\n",
    "plt.show()"
   ],
   "metadata": {
    "collapsed": false,
    "pycharm": {
     "name": "#%%\n"
    }
   }
  },
  {
   "cell_type": "markdown",
   "source": [
    "\n",
    "\n",
    "---\n",
    "\n"
   ],
   "metadata": {
    "collapsed": false,
    "pycharm": {
     "name": "#%% md\n"
    }
   }
  },
  {
   "cell_type": "markdown",
   "source": [
    "## 1b. Linear Regression - Multivariate\n",
    "\n",
    "Simple linear regression using two columns in the given dataset about House Rent. **Rent** will act as a dependent feature or the label and **BHK, Size, Bathrooms** will act as independent features."
   ],
   "metadata": {
    "collapsed": false,
    "pycharm": {
     "name": "#%% md\n"
    }
   }
  },
  {
   "cell_type": "code",
   "execution_count": 212,
   "outputs": [],
   "source": [
    "class LinearRegression2:\n",
    "    def __init__(self, learning_rate=0.00000005, iterations=100):\n",
    "        self.cost_list = None\n",
    "        self.loss_list = None\n",
    "        self.thetas_list = None\n",
    "        self.bias_list = None\n",
    "        self.learning_rate = learning_rate\n",
    "        self.iterations = iterations\n",
    "        self.thetas = None\n",
    "        self.bias = None\n",
    "\n",
    "    def fit(self, X, y):\n",
    "        no_samples, no_features = X.shape\n",
    "\n",
    "        # init parameters\n",
    "        self.thetas = np.zeros((no_features, 1))\n",
    "        self.bias = 0\n",
    "        self.cost_list = []\n",
    "        self.loss_list = []\n",
    "        self.thetas_list = []\n",
    "        self.bias_list = []\n",
    "\n",
    "        # gradient descent\n",
    "        for _ in range(self.iterations):\n",
    "            y_predicted = np.dot(X, self.thetas) + self.bias\n",
    "\n",
    "            # cost value\n",
    "            cost = (1 / (2 * no_samples)) * np.sum(np.square(y_predicted - y))\n",
    "            self.cost_list.append(cost)\n",
    "\n",
    "            # loss value\n",
    "            loss = mean_squared_error(y, y_predicted)\n",
    "            self.loss_list.append(loss)\n",
    "\n",
    "            # compute gradients\n",
    "            dw = (1 / no_samples) * np.dot(X.T, y_predicted - y)\n",
    "            db = (1 / no_samples) * np.sum(y_predicted - y)\n",
    "\n",
    "            # update parameters\n",
    "            self.thetas = self.thetas - self.learning_rate * dw\n",
    "            self.bias = self.bias - self.learning_rate * db\n",
    "\n",
    "            self.thetas_list.append(self.thetas)\n",
    "            self.bias_list.append(self.bias)\n",
    "\n",
    "    def predict(self, X):\n",
    "        y_prediction = np.dot(X, self.thetas) + self.bias\n",
    "        return y_prediction"
   ],
   "metadata": {
    "collapsed": false,
    "pycharm": {
     "name": "#%%\n"
    }
   }
  },
  {
   "cell_type": "code",
   "execution_count": 213,
   "outputs": [
    {
     "data": {
      "text/plain": "array([[2.000e+00, 1.000e+00, 6.000e+01, 2.000e+03],\n       [1.000e+00, 1.000e+00, 1.600e+02, 3.000e+03],\n       [1.000e+00, 1.000e+00, 2.000e+02, 3.000e+03],\n       ...,\n       [4.000e+00, 4.000e+00, 4.800e+03, 1.300e+05],\n       [4.000e+00, 4.000e+00, 4.341e+03, 1.300e+05],\n       [4.000e+00, 6.000e+00, 3.500e+03, 1.300e+05]])"
     },
     "execution_count": 213,
     "metadata": {},
     "output_type": "execute_result"
    }
   ],
   "source": [
    "data = np.loadtxt('House_Rent_Fixed_2_NoLabel.csv', delimiter=',')\n",
    "data"
   ],
   "metadata": {
    "collapsed": false,
    "pycharm": {
     "name": "#%%\n"
    }
   }
  },
  {
   "cell_type": "code",
   "execution_count": 214,
   "outputs": [
    {
     "name": "stdout",
     "output_type": "stream",
     "text": [
      "(2706, 3) (2706,)\n"
     ]
    }
   ],
   "source": [
    "X = data[:, 0:3]\n",
    "y = data[:, 3]\n",
    "\n",
    "print(X.shape, y.shape)"
   ],
   "metadata": {
    "collapsed": false,
    "pycharm": {
     "name": "#%%\n"
    }
   }
  },
  {
   "cell_type": "code",
   "execution_count": 215,
   "outputs": [
    {
     "name": "stdout",
     "output_type": "stream",
     "text": [
      "(2706, 4) (2706, 1)\n"
     ]
    }
   ],
   "source": [
    "X = np.vstack((np.ones((X.shape[0], )), X.T)).T\n",
    "y = data[:, 3].reshape(y.size, 1)\n",
    "print(X.shape, y.shape)"
   ],
   "metadata": {
    "collapsed": false,
    "pycharm": {
     "name": "#%%\n"
    }
   }
  },
  {
   "cell_type": "code",
   "execution_count": 216,
   "outputs": [
    {
     "name": "stdout",
     "output_type": "stream",
     "text": [
      "(2164, 4) (2164, 1)\n",
      "(542, 4) (542, 1)\n"
     ]
    }
   ],
   "source": [
    "X_train, X_test, y_train, y_test = train_test_split(\n",
    "    X, y, test_size=0.2, random_state=0\n",
    ")\n",
    "print(X_train.shape, y_train.shape)\n",
    "print(X_test.shape, y_test.shape)"
   ],
   "metadata": {
    "collapsed": false,
    "pycharm": {
     "name": "#%%\n"
    }
   }
  },
  {
   "cell_type": "code",
   "execution_count": 217,
   "outputs": [],
   "source": [
    "# linear_regression2 = LinearRegression2(learning_rate=0.000001, iterations=1000000)\n",
    "linear_regression2 = LinearRegression2(learning_rate=0.000001, iterations=1000)\n",
    "linear_regression2.fit(X_train, y_train)"
   ],
   "metadata": {
    "collapsed": false,
    "pycharm": {
     "name": "#%%\n"
    }
   }
  },
  {
   "cell_type": "code",
   "execution_count": 218,
   "outputs": [
    {
     "name": "stdout",
     "output_type": "stream",
     "text": [
      "MSE for Test Data: 138743413.8499731\n",
      "R-Squared Error for Test Data: 0.5547417343864176\n"
     ]
    }
   ],
   "source": [
    "y_pred = linear_regression2.predict(X_test)\n",
    "\n",
    "# calculating mse\n",
    "mse = mean_squared_error(y_test, y_pred)\n",
    "print('MSE for Test Data:', mse)\n",
    "\n",
    "# calculating r squared\n",
    "rse = r_squared_error(y_test, y_pred)\n",
    "print('R-Squared Error for Test Data:', rse)"
   ],
   "metadata": {
    "collapsed": false,
    "pycharm": {
     "name": "#%%\n"
    }
   }
  },
  {
   "cell_type": "code",
   "execution_count": 219,
   "outputs": [
    {
     "data": {
      "text/plain": "<Figure size 432x288 with 1 Axes>",
      "image/png": "[encoded data removed]"
     },
     "metadata": {
      "needs_background": "light"
     },
     "output_type": "display_data"
    }
   ],
   "source": [
    "range_iteration = np.arange(0, linear_regression2.iterations)\n",
    "plt.plot(range_iteration, linear_regression2.cost_list[0:linear_regression2.iterations])\n",
    "plt.xlabel(\"Iteration\")\n",
    "plt.ylabel(\"Cost\")\n",
    "plt.title('Cost Value')\n",
    "plt.show()"
   ],
   "metadata": {
    "collapsed": false,
    "pycharm": {
     "name": "#%%\n"
    }
   }
  },
  {
   "cell_type": "code",
   "execution_count": 220,
   "outputs": [
    {
     "data": {
      "text/plain": "<Figure size 432x288 with 1 Axes>",
      "image/png": "[encoded data removed]"
     },
     "metadata": {
      "needs_background": "light"
     },
     "output_type": "display_data"
    }
   ],
   "source": [
    "range_iteration = np.arange(0, linear_regression2.iterations)\n",
    "plt.plot(range_iteration, linear_regression2.loss_list[0:linear_regression2.iterations])\n",
    "plt.xlabel(\"Iteration\")\n",
    "plt.ylabel(\"Loss\")\n",
    "plt.title('Loss Value')\n",
    "plt.show()"
   ],
   "metadata": {
    "collapsed": false,
    "pycharm": {
     "name": "#%%\n"
    }
   }
  },
  {
   "cell_type": "markdown",
   "source": [
    "\n",
    "\n",
    "---\n",
    "\n"
   ],
   "metadata": {
    "id": "KbpQl5LBStPn",
    "pycharm": {
     "name": "#%% md\n"
    }
   }
  },
  {
   "cell_type": "markdown",
   "source": [
    "## 2. Logistic Regression\n",
    "\n",
    "Classification of breast cancer using logistic regression. There will be 2 classes, Benign and Malignant.\n"
   ],
   "metadata": {
    "id": "bcHgR15xSUnI",
    "pycharm": {
     "name": "#%% md\n"
    }
   }
  },
  {
   "cell_type": "code",
   "execution_count": 221,
   "outputs": [],
   "source": [
    "class LogisticRegression:\n",
    "    def __init__(self, learning_rate=0.0001, iterations=1000):\n",
    "        self.cost_list = None\n",
    "        self.loss_list = None\n",
    "        self.learning_rate = learning_rate\n",
    "        self.iterations = iterations\n",
    "        self.weights = None\n",
    "        self.bias = None\n",
    "\n",
    "    def fit(self, X, y):\n",
    "        no_samples, no_features = X.shape\n",
    "        self.loss_list = []\n",
    "        self.weights = np.zeros(no_features)\n",
    "        self.bias = 0\n",
    "\n",
    "        # gradient descent\n",
    "        for _ in range(self.iterations):\n",
    "            linear_model = np.dot(X, self.weights) + self.bias\n",
    "            y_predicted = self._sigmoid(linear_model)\n",
    "\n",
    "            dw = (1 / no_samples) * np.dot(X.T, (y_predicted - y))\n",
    "            db = (1 / no_samples) * np.sum(y_predicted - y)\n",
    "\n",
    "            loss = self._loss(y, y_predicted)\n",
    "            self.loss_list.append(loss)\n",
    "\n",
    "            self.weights = self.weights - self.learning_rate * dw\n",
    "            self.bias = self.bias - self.learning_rate * db\n",
    "\n",
    "    def predict(self, X):\n",
    "        linear_model = np.dot(X, self.weights) + self.bias\n",
    "        y_prediction = self._sigmoid(linear_model)\n",
    "        y_prediction_class = [1 if i > 0.5 else 0 for i in y_prediction]\n",
    "\n",
    "        return y_prediction_class\n",
    "\n",
    "    def _sigmoid(self, x):\n",
    "        return 1 / (1 + np.exp(-x))\n",
    "\n",
    "    def _loss(self, y_real, y_pred):\n",
    "        y_zero_loss = y_real * np.log(y_pred + 1e-9)\n",
    "        y_one_loss = (1 - y_real) * np.log(1 - y_pred + 1e-9)\n",
    "        return -(np.mean(y_zero_loss + y_one_loss))"
   ],
   "metadata": {
    "collapsed": false,
    "pycharm": {
     "name": "#%%\n"
    }
   }
  },
  {
   "cell_type": "code",
   "execution_count": 222,
   "outputs": [],
   "source": [
    "# calculating accuracy based on number of correct predictions divided by number of total instances to be predicted\n",
    "def accuracy_logistic(y_real, y_pred):\n",
    "    accuracy = np.sum(y_real == y_pred) / len(y_real)\n",
    "    return accuracy\n",
    "\n",
    "# finding confusion matrix\n",
    "def confusion_matrix(y_real, y_pred):\n",
    "    K = len(np.unique(y_real))\n",
    "    cm = np.zeros((K, K))\n",
    "\n",
    "    for i in range(len(y_real)):\n",
    "        cm[int(y_real[i])][int(y_pred[i])] += 1\n",
    "\n",
    "    return cm\n",
    "\n",
    "# precision is a metric where it calculates number of true positive divided by all instances predicted to be\n",
    "# positive. cm is a confusion matrix\n",
    "def precision(cm):\n",
    "    true_positive = cm[0][0]\n",
    "    false_positive = cm[1][0]\n",
    "    return true_positive / (true_positive + false_positive)\n",
    "\n",
    "# recall is a metric where it calculates number of correcly predicted positive instances divided by all instances\n",
    "# that are actually positive in the dataset. cm is a confusion matrix\n",
    "def recall(cm):\n",
    "    true_positive = cm[0][0]\n",
    "    false_negative = cm[0][1]\n",
    "    return true_positive / (true_positive + false_negative)\n",
    "\n",
    "# f1-score is taking both values of precision and recall into account, providing much broader metric.\n",
    "def f1_score(cm):\n",
    "    # p is precision value and r is recall value\n",
    "\n",
    "    p = precision(cm)\n",
    "    r = recall(cm)\n",
    "\n",
    "    return (2 * p * r) / (p + r)"
   ],
   "metadata": {
    "collapsed": false,
    "pycharm": {
     "name": "#%%\n"
    }
   }
  },
  {
   "cell_type": "code",
   "execution_count": 223,
   "outputs": [
    {
     "data": {
      "text/plain": "array([[ 1.     , 17.99   , 10.38   , ...,  0.2654 ,  0.4601 ,  0.1189 ],\n       [ 1.     , 20.57   , 17.77   , ...,  0.186  ,  0.275  ,  0.08902],\n       [ 1.     , 19.69   , 21.25   , ...,  0.243  ,  0.3613 ,  0.08758],\n       ...,\n       [ 1.     , 16.6    , 28.08   , ...,  0.1418 ,  0.2218 ,  0.0782 ],\n       [ 1.     , 20.6    , 29.33   , ...,  0.265  ,  0.4087 ,  0.124  ],\n       [ 0.     ,  7.76   , 24.54   , ...,  0.     ,  0.2871 ,  0.07039]])"
     },
     "execution_count": 223,
     "metadata": {},
     "output_type": "execute_result"
    }
   ],
   "source": [
    "# read the data as pandas dataframe\n",
    "data = pd.read_csv('breast_cancer.csv')\n",
    "\n",
    "# drop columns that are not needed\n",
    "data = data.drop(['id', 'Unnamed: 32'], axis=1)\n",
    "\n",
    "# changing the string value to integer\n",
    "data['diagnosis'] = data['diagnosis'].map({\n",
    "    'M': 1,\n",
    "    'B': 0\n",
    "})\n",
    "\n",
    "# change the type to numpy nd-array\n",
    "data = data.values\n",
    "data"
   ],
   "metadata": {
    "collapsed": false,
    "pycharm": {
     "name": "#%%\n"
    }
   }
  },
  {
   "cell_type": "code",
   "execution_count": 224,
   "outputs": [
    {
     "name": "stdout",
     "output_type": "stream",
     "text": [
      "(569, 30) (569,)\n"
     ]
    }
   ],
   "source": [
    "# X is for features or independent columns, from column 1 until 30\n",
    "X = data[:, 1:31]\n",
    "\n",
    "# y is for label or dependent column, from column 0\n",
    "y = data[:, 0]\n",
    "\n",
    "print(X.shape, y.shape)"
   ],
   "metadata": {
    "collapsed": false,
    "pycharm": {
     "name": "#%%\n"
    }
   }
  },
  {
   "cell_type": "code",
   "execution_count": 225,
   "outputs": [
    {
     "name": "stdout",
     "output_type": "stream",
     "text": [
      "(455, 30) (455,)\n",
      "(114, 30) (114,)\n"
     ]
    }
   ],
   "source": [
    "X_train, X_test, y_train, y_test = train_test_split(\n",
    "    X, y, test_size=0.2, random_state=1\n",
    ")\n",
    "\n",
    "print(X_train.shape, y_train.shape)\n",
    "print(X_test.shape, y_test.shape)"
   ],
   "metadata": {
    "collapsed": false,
    "pycharm": {
     "name": "#%%\n"
    }
   }
  },
  {
   "cell_type": "code",
   "execution_count": 226,
   "outputs": [],
   "source": [
    "logistic_regression = LogisticRegression(learning_rate=0.0001, iterations=1000)\n",
    "logistic_regression.fit(X_train, y_train)"
   ],
   "metadata": {
    "collapsed": false,
    "pycharm": {
     "name": "#%%\n"
    }
   }
  },
  {
   "cell_type": "code",
   "execution_count": 227,
   "outputs": [
    {
     "data": {
      "text/plain": "<Figure size 432x288 with 1 Axes>",
      "image/png": "[encoded data removed]"
     },
     "metadata": {
      "needs_background": "light"
     },
     "output_type": "display_data"
    }
   ],
   "source": [
    "range_iteration = np.arange(0, logistic_regression.iterations, 10)\n",
    "plt.plot(range_iteration, logistic_regression.loss_list[0:logistic_regression.iterations:10])\n",
    "plt.xlabel(\"Iteration\")\n",
    "plt.ylabel(\"Loss\")\n",
    "plt.title('Loss Value')\n",
    "plt.show()"
   ],
   "metadata": {
    "collapsed": false,
    "pycharm": {
     "name": "#%%\n"
    }
   }
  },
  {
   "cell_type": "code",
   "execution_count": 228,
   "outputs": [
    {
     "name": "stdout",
     "output_type": "stream",
     "text": [
      "Confusion Matrix\n",
      " [[70.  2.]\n",
      " [ 5. 37.]]\n"
     ]
    }
   ],
   "source": [
    "y_pred = logistic_regression.predict(X_test)\n",
    "cm = confusion_matrix(y_test, y_pred)\n",
    "print('Confusion Matrix\\n', cm)"
   ],
   "metadata": {
    "collapsed": false,
    "pycharm": {
     "name": "#%%\n"
    }
   }
  },
  {
   "cell_type": "code",
   "execution_count": 229,
   "outputs": [
    {
     "name": "stdout",
     "output_type": "stream",
     "text": [
      "Accuracy for test data: 0.9385964912280702\n",
      "Precision for test data: 0.9333333333333333\n",
      "Recall for test data: 0.9722222222222222\n",
      "F1-Score for test data: 0.9523809523809524\n"
     ]
    }
   ],
   "source": [
    "print('Accuracy for test data:', accuracy_logistic(y_test, y_pred))\n",
    "print('Precision for test data:', precision(cm))\n",
    "print('Recall for test data:', recall(cm))\n",
    "print('F1-Score for test data:', f1_score(cm))"
   ],
   "metadata": {
    "collapsed": false,
    "pycharm": {
     "name": "#%%\n"
    }
   }
  },
  {
   "cell_type": "code",
   "execution_count": null,
   "outputs": [],
   "source": [],
   "metadata": {
    "collapsed": false,
    "pycharm": {
     "name": "#%%\n"
    }
   }
  }
 ]
}